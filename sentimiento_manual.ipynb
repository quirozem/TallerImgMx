{
 "cells": [
  {
   "cell_type": "markdown",
   "metadata": {},
   "source": [
    "Bilbiotecas."
   ]
  },
  {
   "cell_type": "code",
   "execution_count": 1,
   "metadata": {},
   "outputs": [
    {
     "name": "stderr",
     "output_type": "stream",
     "text": [
      "c:\\users\\jose\\appdata\\local\\programs\\python\\python38\\lib\\site-packages\\cupy\\_environment.py:147: UserWarning: CUDA path could not be detected. Set CUDA_PATH environment variable if CuPy fails to load.\n",
      "  warnings.warn(\n",
      "c:\\users\\jose\\appdata\\local\\programs\\python\\python38\\lib\\site-packages\\cupy\\_environment.py:147: UserWarning: CUDA path could not be detected. Set CUDA_PATH environment variable if CuPy fails to load.\n",
      "  warnings.warn(\n",
      "c:\\users\\jose\\appdata\\local\\programs\\python\\python38\\lib\\site-packages\\cupy\\_environment.py:147: UserWarning: CUDA path could not be detected. Set CUDA_PATH environment variable if CuPy fails to load.\n",
      "  warnings.warn(\n",
      "c:\\users\\jose\\appdata\\local\\programs\\python\\python38\\lib\\site-packages\\cupy\\_environment.py:147: UserWarning: CUDA path could not be detected. Set CUDA_PATH environment variable if CuPy fails to load.\n",
      "  warnings.warn(\n",
      "c:\\users\\jose\\appdata\\local\\programs\\python\\python38\\lib\\site-packages\\cupy\\_environment.py:147: UserWarning: CUDA path could not be detected. Set CUDA_PATH environment variable if CuPy fails to load.\n",
      "  warnings.warn(\n",
      "c:\\users\\jose\\appdata\\local\\programs\\python\\python38\\lib\\site-packages\\cupy\\_environment.py:147: UserWarning: CUDA path could not be detected. Set CUDA_PATH environment variable if CuPy fails to load.\n",
      "  warnings.warn(\n",
      "c:\\users\\jose\\appdata\\local\\programs\\python\\python38\\lib\\site-packages\\cupy\\_environment.py:147: UserWarning: CUDA path could not be detected. Set CUDA_PATH environment variable if CuPy fails to load.\n",
      "  warnings.warn(\n",
      "c:\\users\\jose\\appdata\\local\\programs\\python\\python38\\lib\\site-packages\\cupy\\_environment.py:147: UserWarning: CUDA path could not be detected. Set CUDA_PATH environment variable if CuPy fails to load.\n",
      "  warnings.warn(\n",
      "c:\\users\\jose\\appdata\\local\\programs\\python\\python38\\lib\\site-packages\\cupy\\_environment.py:147: UserWarning: CUDA path could not be detected. Set CUDA_PATH environment variable if CuPy fails to load.\n",
      "  warnings.warn(\n"
     ]
    }
   ],
   "source": [
    "import spacy\n",
    "import nltk\n",
    "from nltk.sentiment.vader import SentimentIntensityAnalyzer as vader"
   ]
  },
  {
   "cell_type": "markdown",
   "metadata": {},
   "source": [
    "Cargar diccionarios y entrenamiento."
   ]
  },
  {
   "cell_type": "code",
   "execution_count": 3,
   "metadata": {},
   "outputs": [],
   "source": [
    "nlp = spacy.load(\"en_core_web_sm\")\n",
    "sentiment = vader()"
   ]
  },
  {
   "cell_type": "markdown",
   "metadata": {},
   "source": [
    "separación y limpieza del texto."
   ]
  },
  {
   "cell_type": "code",
   "execution_count": 22,
   "metadata": {},
   "outputs": [],
   "source": [
    "texto = \"Biden could face early tensions with Mexico's López Obrador\"\n",
    "doc = nlp(texto)\n",
    "words = [token.lemma_.lower() for token in doc if token.is_punct != True and token.text != ' ']"
   ]
  },
  {
   "cell_type": "markdown",
   "metadata": {},
   "source": [
    "juntar el texto"
   ]
  },
  {
   "cell_type": "code",
   "execution_count": 23,
   "metadata": {},
   "outputs": [],
   "source": [
    "aux = \"\"\n",
    "for x in words:\n",
    "    aux = aux +\" \"+ x"
   ]
  },
  {
   "cell_type": "markdown",
   "metadata": {},
   "source": [
    "imprimir resultados."
   ]
  },
  {
   "cell_type": "code",
   "execution_count": 24,
   "metadata": {
    "scrolled": true
   },
   "outputs": [
    {
     "name": "stdout",
     "output_type": "stream",
     "text": [
      "positivo: 0.0\n",
      "negativo: 0.204\n",
      "neutral: 0.796\n",
      "total: -0.3182\n"
     ]
    }
   ],
   "source": [
    "print(\"positivo: \"+str(sentiment.polarity_scores(aux)['pos']))\n",
    "print(\"negativo: \"+str(sentiment.polarity_scores(aux)['neg']))\n",
    "print(\"neutral: \"+ str(sentiment.polarity_scores(aux)['neu']))\n",
    "print(\"total: \"+ str(sentiment.polarity_scores(aux)['compound']))"
   ]
  },
  {
   "cell_type": "code",
   "execution_count": null,
   "metadata": {},
   "outputs": [],
   "source": []
  }
 ],
 "metadata": {
  "kernelspec": {
   "display_name": "Python 3",
   "language": "python",
   "name": "python3"
  },
  "language_info": {
   "codemirror_mode": {
    "name": "ipython",
    "version": 3
   },
   "file_extension": ".py",
   "mimetype": "text/x-python",
   "name": "python",
   "nbconvert_exporter": "python",
   "pygments_lexer": "ipython3",
   "version": "3.8.2"
  }
 },
 "nbformat": 4,
 "nbformat_minor": 4
}
