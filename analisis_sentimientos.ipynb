{
 "cells": [
  {
   "cell_type": "markdown",
   "metadata": {},
   "source": [
    "Instalamos e mportamos las bibliotecas necesarias para el programa."
   ]
  },
  {
   "cell_type": "code",
   "execution_count": 1,
   "metadata": {},
   "outputs": [
    {
     "name": "stdout",
     "output_type": "stream",
     "text": [
      "Requirement already satisfied: spacy in c:\\users\\jose\\appdata\\local\\programs\\python\\python38\\lib\\site-packages (2.3.2)"
     ]
    },
    {
     "name": "stderr",
     "output_type": "stream",
     "text": [
      "WARNING: You are using pip version 20.3; however, version 20.3.1 is available.\n",
      "You should consider upgrading via the 'c:\\users\\jose\\appdata\\local\\programs\\python\\python38\\python.exe -m pip install --upgrade pip' command.\n"
     ]
    },
    {
     "name": "stdout",
     "output_type": "stream",
     "text": [
      "\n",
      "Requirement already satisfied: wasabi<1.1.0,>=0.4.0 in c:\\users\\jose\\appdata\\local\\programs\\python\\python38\\lib\\site-packages (from spacy) (0.8.0)\n",
      "Requirement already satisfied: cymem<2.1.0,>=2.0.2 in c:\\users\\jose\\appdata\\local\\programs\\python\\python38\\lib\\site-packages (from spacy) (2.0.3)\n",
      "Requirement already satisfied: srsly<1.1.0,>=1.0.2 in c:\\users\\jose\\appdata\\local\\programs\\python\\python38\\lib\\site-packages (from spacy) (1.0.2)\n",
      "Requirement already satisfied: numpy>=1.15.0 in c:\\users\\jose\\appdata\\local\\programs\\python\\python38\\lib\\site-packages (from spacy) (1.19.2)\n",
      "Requirement already satisfied: plac<1.2.0,>=0.9.6 in c:\\users\\jose\\appdata\\local\\programs\\python\\python38\\lib\\site-packages (from spacy) (1.1.3)\n",
      "Requirement already satisfied: catalogue<1.1.0,>=0.0.7 in c:\\users\\jose\\appdata\\local\\programs\\python\\python38\\lib\\site-packages (from spacy) (1.0.0)\n",
      "Requirement already satisfied: preshed<3.1.0,>=3.0.2 in c:\\users\\jose\\appdata\\local\\programs\\python\\python38\\lib\\site-packages (from spacy) (3.0.2)\n",
      "Requirement already satisfied: blis<0.5.0,>=0.4.0 in c:\\users\\jose\\appdata\\local\\programs\\python\\python38\\lib\\site-packages (from spacy) (0.4.1)\n",
      "Requirement already satisfied: tqdm<5.0.0,>=4.38.0 in c:\\users\\jose\\appdata\\local\\programs\\python\\python38\\lib\\site-packages (from spacy) (4.48.2)\n",
      "Requirement already satisfied: murmurhash<1.1.0,>=0.28.0 in c:\\users\\jose\\appdata\\local\\programs\\python\\python38\\lib\\site-packages (from spacy) (1.0.2)\n",
      "Requirement already satisfied: requests<3.0.0,>=2.13.0 in c:\\users\\jose\\appdata\\local\\programs\\python\\python38\\lib\\site-packages (from spacy) (2.23.0)\n",
      "Requirement already satisfied: thinc==7.4.1 in c:\\users\\jose\\appdata\\local\\programs\\python\\python38\\lib\\site-packages (from spacy) (7.4.1)\n",
      "Requirement already satisfied: setuptools in c:\\users\\jose\\appdata\\local\\programs\\python\\python38\\lib\\site-packages (from spacy) (41.2.0)\n",
      "Requirement already satisfied: numpy>=1.15.0 in c:\\users\\jose\\appdata\\local\\programs\\python\\python38\\lib\\site-packages (from spacy) (1.19.2)\n",
      "Requirement already satisfied: cymem<2.1.0,>=2.0.2 in c:\\users\\jose\\appdata\\local\\programs\\python\\python38\\lib\\site-packages (from spacy) (2.0.3)\n",
      "Requirement already satisfied: murmurhash<1.1.0,>=0.28.0 in c:\\users\\jose\\appdata\\local\\programs\\python\\python38\\lib\\site-packages (from spacy) (1.0.2)\n",
      "Requirement already satisfied: idna<3,>=2.5 in c:\\users\\jose\\appdata\\local\\programs\\python\\python38\\lib\\site-packages (from requests<3.0.0,>=2.13.0->spacy) (2.9)\n",
      "Requirement already satisfied: chardet<4,>=3.0.2 in c:\\users\\jose\\appdata\\local\\programs\\python\\python38\\lib\\site-packages (from requests<3.0.0,>=2.13.0->spacy) (3.0.4)\n",
      "Requirement already satisfied: urllib3!=1.25.0,!=1.25.1,<1.26,>=1.21.1 in c:\\users\\jose\\appdata\\local\\programs\\python\\python38\\lib\\site-packages (from requests<3.0.0,>=2.13.0->spacy) (1.25.9)\n",
      "Requirement already satisfied: certifi>=2017.4.17 in c:\\users\\jose\\appdata\\local\\programs\\python\\python38\\lib\\site-packages (from requests<3.0.0,>=2.13.0->spacy) (2020.4.5.1)\n",
      "Requirement already satisfied: tqdm<5.0.0,>=4.38.0 in c:\\users\\jose\\appdata\\local\\programs\\python\\python38\\lib\\site-packages (from spacy) (4.48.2)\n",
      "Requirement already satisfied: cymem<2.1.0,>=2.0.2 in c:\\users\\jose\\appdata\\local\\programs\\python\\python38\\lib\\site-packages (from spacy) (2.0.3)\n",
      "Requirement already satisfied: srsly<1.1.0,>=1.0.2 in c:\\users\\jose\\appdata\\local\\programs\\python\\python38\\lib\\site-packages (from spacy) (1.0.2)\n",
      "Requirement already satisfied: plac<1.2.0,>=0.9.6 in c:\\users\\jose\\appdata\\local\\programs\\python\\python38\\lib\\site-packages (from spacy) (1.1.3)\n",
      "Requirement already satisfied: catalogue<1.1.0,>=0.0.7 in c:\\users\\jose\\appdata\\local\\programs\\python\\python38\\lib\\site-packages (from spacy) (1.0.0)\n",
      "Requirement already satisfied: blis<0.5.0,>=0.4.0 in c:\\users\\jose\\appdata\\local\\programs\\python\\python38\\lib\\site-packages (from spacy) (0.4.1)\n",
      "Requirement already satisfied: murmurhash<1.1.0,>=0.28.0 in c:\\users\\jose\\appdata\\local\\programs\\python\\python38\\lib\\site-packages (from spacy) (1.0.2)\n",
      "Requirement already satisfied: preshed<3.1.0,>=3.0.2 in c:\\users\\jose\\appdata\\local\\programs\\python\\python38\\lib\\site-packages (from spacy) (3.0.2)\n",
      "Requirement already satisfied: numpy>=1.15.0 in c:\\users\\jose\\appdata\\local\\programs\\python\\python38\\lib\\site-packages (from spacy) (1.19.2)\n",
      "Requirement already satisfied: wasabi<1.1.0,>=0.4.0 in c:\\users\\jose\\appdata\\local\\programs\\python\\python38\\lib\\site-packages (from spacy) (0.8.0)\n"
     ]
    },
    {
     "name": "stderr",
     "output_type": "stream",
     "text": [
      "WARNING: You are using pip version 20.3; however, version 20.3.1 is available.\n",
      "You should consider upgrading via the 'C:\\Users\\Jose\\AppData\\Local\\Programs\\Python\\Python38\\python.exe -m pip install --upgrade pip' command.\n",
      "C:\\Users\\Jose\\AppData\\Local\\Programs\\Python\\Python38\\lib\\site-packages\\cupy\\_environment.py:147: UserWarning: CUDA path could not be detected. Set CUDA_PATH environment variable if CuPy fails to load.\n",
      "  warnings.warn(\n",
      "C:\\Users\\Jose\\AppData\\Local\\Programs\\Python\\Python38\\lib\\site-packages\\cupy\\_environment.py:147: UserWarning: CUDA path could not be detected. Set CUDA_PATH environment variable if CuPy fails to load.\n",
      "  warnings.warn(\n",
      "C:\\Users\\Jose\\AppData\\Local\\Programs\\Python\\Python38\\lib\\site-packages\\cupy\\_environment.py:147: UserWarning: CUDA path could not be detected. Set CUDA_PATH environment variable if CuPy fails to load.\n",
      "  warnings.warn(\n",
      "C:\\Users\\Jose\\AppData\\Local\\Programs\\Python\\Python38\\lib\\site-packages\\cupy\\_environment.py:147: UserWarning: CUDA path could not be detected. Set CUDA_PATH environment variable if CuPy fails to load.\n",
      "  warnings.warn(\n",
      "C:\\Users\\Jose\\AppData\\Local\\Programs\\Python\\Python38\\lib\\site-packages\\cupy\\_environment.py:147: UserWarning: CUDA path could not be detected. Set CUDA_PATH environment variable if CuPy fails to load.\n",
      "  warnings.warn(\n",
      "C:\\Users\\Jose\\AppData\\Local\\Programs\\Python\\Python38\\lib\\site-packages\\cupy\\_environment.py:147: UserWarning: CUDA path could not be detected. Set CUDA_PATH environment variable if CuPy fails to load.\n",
      "  warnings.warn(\n",
      "C:\\Users\\Jose\\AppData\\Local\\Programs\\Python\\Python38\\lib\\site-packages\\cupy\\_environment.py:147: UserWarning: CUDA path could not be detected. Set CUDA_PATH environment variable if CuPy fails to load.\n",
      "  warnings.warn(\n",
      "C:\\Users\\Jose\\AppData\\Local\\Programs\\Python\\Python38\\lib\\site-packages\\cupy\\_environment.py:147: UserWarning: CUDA path could not be detected. Set CUDA_PATH environment variable if CuPy fails to load.\n",
      "  warnings.warn(\n",
      "C:\\Users\\Jose\\AppData\\Local\\Programs\\Python\\Python38\\lib\\site-packages\\cupy\\_environment.py:147: UserWarning: CUDA path could not be detected. Set CUDA_PATH environment variable if CuPy fails to load.\n",
      "  warnings.warn(\n"
     ]
    },
    {
     "name": "stdout",
     "output_type": "stream",
     "text": [
      "Collecting en_core_web_sm==2.3.1\n",
      "  Downloading https://github.com/explosion/spacy-models/releases/download/en_core_web_sm-2.3.1/en_core_web_sm-2.3.1.tar.gz (12.0 MB)\n",
      "Requirement already satisfied: spacy<2.4.0,>=2.3.0 in c:\\users\\jose\\appdata\\local\\programs\\python\\python38\\lib\\site-packages (from en_core_web_sm==2.3.1) (2.3.2)\n",
      "Requirement already satisfied: setuptools in c:\\users\\jose\\appdata\\local\\programs\\python\\python38\\lib\\site-packages (from spacy<2.4.0,>=2.3.0->en_core_web_sm==2.3.1) (41.2.0)\n",
      "Requirement already satisfied: murmurhash<1.1.0,>=0.28.0 in c:\\users\\jose\\appdata\\local\\programs\\python\\python38\\lib\\site-packages (from spacy<2.4.0,>=2.3.0->en_core_web_sm==2.3.1) (1.0.2)\n",
      "Requirement already satisfied: wasabi<1.1.0,>=0.4.0 in c:\\users\\jose\\appdata\\local\\programs\\python\\python38\\lib\\site-packages (from spacy<2.4.0,>=2.3.0->en_core_web_sm==2.3.1) (0.8.0)\n",
      "Requirement already satisfied: thinc==7.4.1 in c:\\users\\jose\\appdata\\local\\programs\\python\\python38\\lib\\site-packages (from spacy<2.4.0,>=2.3.0->en_core_web_sm==2.3.1) (7.4.1)\n",
      "Requirement already satisfied: preshed<3.1.0,>=3.0.2 in c:\\users\\jose\\appdata\\local\\programs\\python\\python38\\lib\\site-packages (from spacy<2.4.0,>=2.3.0->en_core_web_sm==2.3.1) (3.0.2)\n",
      "Requirement already satisfied: cymem<2.1.0,>=2.0.2 in c:\\users\\jose\\appdata\\local\\programs\\python\\python38\\lib\\site-packages (from spacy<2.4.0,>=2.3.0->en_core_web_sm==2.3.1) (2.0.3)\n",
      "Requirement already satisfied: catalogue<1.1.0,>=0.0.7 in c:\\users\\jose\\appdata\\local\\programs\\python\\python38\\lib\\site-packages (from spacy<2.4.0,>=2.3.0->en_core_web_sm==2.3.1) (1.0.0)\n",
      "Requirement already satisfied: requests<3.0.0,>=2.13.0 in c:\\users\\jose\\appdata\\local\\programs\\python\\python38\\lib\\site-packages (from spacy<2.4.0,>=2.3.0->en_core_web_sm==2.3.1) (2.23.0)\n",
      "Requirement already satisfied: numpy>=1.15.0 in c:\\users\\jose\\appdata\\local\\programs\\python\\python38\\lib\\site-packages (from spacy<2.4.0,>=2.3.0->en_core_web_sm==2.3.1) (1.19.2)\n",
      "Requirement already satisfied: plac<1.2.0,>=0.9.6 in c:\\users\\jose\\appdata\\local\\programs\\python\\python38\\lib\\site-packages (from spacy<2.4.0,>=2.3.0->en_core_web_sm==2.3.1) (1.1.3)\n",
      "Requirement already satisfied: tqdm<5.0.0,>=4.38.0 in c:\\users\\jose\\appdata\\local\\programs\\python\\python38\\lib\\site-packages (from spacy<2.4.0,>=2.3.0->en_core_web_sm==2.3.1) (4.48.2)\n",
      "Requirement already satisfied: srsly<1.1.0,>=1.0.2 in c:\\users\\jose\\appdata\\local\\programs\\python\\python38\\lib\\site-packages (from spacy<2.4.0,>=2.3.0->en_core_web_sm==2.3.1) (1.0.2)\n",
      "Requirement already satisfied: blis<0.5.0,>=0.4.0 in c:\\users\\jose\\appdata\\local\\programs\\python\\python38\\lib\\site-packages (from spacy<2.4.0,>=2.3.0->en_core_web_sm==2.3.1) (0.4.1)\n",
      "Requirement already satisfied: numpy>=1.15.0 in c:\\users\\jose\\appdata\\local\\programs\\python\\python38\\lib\\site-packages (from spacy<2.4.0,>=2.3.0->en_core_web_sm==2.3.1) (1.19.2)\n",
      "Requirement already satisfied: cymem<2.1.0,>=2.0.2 in c:\\users\\jose\\appdata\\local\\programs\\python\\python38\\lib\\site-packages (from spacy<2.4.0,>=2.3.0->en_core_web_sm==2.3.1) (2.0.3)\n",
      "Requirement already satisfied: murmurhash<1.1.0,>=0.28.0 in c:\\users\\jose\\appdata\\local\\programs\\python\\python38\\lib\\site-packages (from spacy<2.4.0,>=2.3.0->en_core_web_sm==2.3.1) (1.0.2)\n",
      "Requirement already satisfied: urllib3!=1.25.0,!=1.25.1,<1.26,>=1.21.1 in c:\\users\\jose\\appdata\\local\\programs\\python\\python38\\lib\\site-packages (from requests<3.0.0,>=2.13.0->spacy<2.4.0,>=2.3.0->en_core_web_sm==2.3.1) (1.25.9)\n",
      "Requirement already satisfied: certifi>=2017.4.17 in c:\\users\\jose\\appdata\\local\\programs\\python\\python38\\lib\\site-packages (from requests<3.0.0,>=2.13.0->spacy<2.4.0,>=2.3.0->en_core_web_sm==2.3.1) (2020.4.5.1)\n",
      "Requirement already satisfied: chardet<4,>=3.0.2 in c:\\users\\jose\\appdata\\local\\programs\\python\\python38\\lib\\site-packages (from requests<3.0.0,>=2.13.0->spacy<2.4.0,>=2.3.0->en_core_web_sm==2.3.1) (3.0.4)\n",
      "Requirement already satisfied: idna<3,>=2.5 in c:\\users\\jose\\appdata\\local\\programs\\python\\python38\\lib\\site-packages (from requests<3.0.0,>=2.13.0->spacy<2.4.0,>=2.3.0->en_core_web_sm==2.3.1) (2.9)\n",
      "Requirement already satisfied: numpy>=1.15.0 in c:\\users\\jose\\appdata\\local\\programs\\python\\python38\\lib\\site-packages (from spacy<2.4.0,>=2.3.0->en_core_web_sm==2.3.1) (1.19.2)\n",
      "Requirement already satisfied: murmurhash<1.1.0,>=0.28.0 in c:\\users\\jose\\appdata\\local\\programs\\python\\python38\\lib\\site-packages (from spacy<2.4.0,>=2.3.0->en_core_web_sm==2.3.1) (1.0.2)\n",
      "Requirement already satisfied: tqdm<5.0.0,>=4.38.0 in c:\\users\\jose\\appdata\\local\\programs\\python\\python38\\lib\\site-packages (from spacy<2.4.0,>=2.3.0->en_core_web_sm==2.3.1) (4.48.2)\n",
      "Requirement already satisfied: preshed<3.1.0,>=3.0.2 in c:\\users\\jose\\appdata\\local\\programs\\python\\python38\\lib\\site-packages (from spacy<2.4.0,>=2.3.0->en_core_web_sm==2.3.1) (3.0.2)\n",
      "Requirement already satisfied: wasabi<1.1.0,>=0.4.0 in c:\\users\\jose\\appdata\\local\\programs\\python\\python38\\lib\\site-packages (from spacy<2.4.0,>=2.3.0->en_core_web_sm==2.3.1) (0.8.0)\n",
      "Requirement already satisfied: cymem<2.1.0,>=2.0.2 in c:\\users\\jose\\appdata\\local\\programs\\python\\python38\\lib\\site-packages (from spacy<2.4.0,>=2.3.0->en_core_web_sm==2.3.1) (2.0.3)\n",
      "Requirement already satisfied: srsly<1.1.0,>=1.0.2 in c:\\users\\jose\\appdata\\local\\programs\\python\\python38\\lib\\site-packages (from spacy<2.4.0,>=2.3.0->en_core_web_sm==2.3.1) (1.0.2)\n",
      "Requirement already satisfied: catalogue<1.1.0,>=0.0.7 in c:\\users\\jose\\appdata\\local\\programs\\python\\python38\\lib\\site-packages (from spacy<2.4.0,>=2.3.0->en_core_web_sm==2.3.1) (1.0.0)\n",
      "Requirement already satisfied: plac<1.2.0,>=0.9.6 in c:\\users\\jose\\appdata\\local\\programs\\python\\python38\\lib\\site-packages (from spacy<2.4.0,>=2.3.0->en_core_web_sm==2.3.1) (1.1.3)\n",
      "Requirement already satisfied: blis<0.5.0,>=0.4.0 in c:\\users\\jose\\appdata\\local\\programs\\python\\python38\\lib\\site-packages (from spacy<2.4.0,>=2.3.0->en_core_web_sm==2.3.1) (0.4.1)\n",
      "[+] Download and installation successful\n",
      "You can now load the model via spacy.load('en_core_web_sm')\n",
      "Requirement already satisfied: nltk in c:\\users\\jose\\appdata\\local\\programs\\python\\python38\\lib\\site-packages (3.5)"
     ]
    },
    {
     "name": "stderr",
     "output_type": "stream",
     "text": [
      "WARNING: You are using pip version 20.3; however, version 20.3.1 is available.\n",
      "You should consider upgrading via the 'c:\\users\\jose\\appdata\\local\\programs\\python\\python38\\python.exe -m pip install --upgrade pip' command.\n"
     ]
    },
    {
     "name": "stdout",
     "output_type": "stream",
     "text": [
      "\n",
      "Requirement already satisfied: click in c:\\users\\jose\\appdata\\local\\programs\\python\\python38\\lib\\site-packages (from nltk) (7.1.2)\n",
      "Requirement already satisfied: joblib in c:\\users\\jose\\appdata\\local\\programs\\python\\python38\\lib\\site-packages (from nltk) (0.17.0)\n",
      "Requirement already satisfied: regex in c:\\users\\jose\\appdata\\local\\programs\\python\\python38\\lib\\site-packages (from nltk) (2020.11.13)\n",
      "Requirement already satisfied: tqdm in c:\\users\\jose\\appdata\\local\\programs\\python\\python38\\lib\\site-packages (from nltk) (4.48.2)\n"
     ]
    }
   ],
   "source": [
    "!pip install spacy\n",
    "!python -m spacy download en_core_web_sm\n",
    "!pip install nltk"
   ]
  },
  {
   "cell_type": "code",
   "execution_count": 5,
   "metadata": {
    "scrolled": true
   },
   "outputs": [
    {
     "name": "stderr",
     "output_type": "stream",
     "text": [
      "[nltk_data] Downloading package punkt to\n",
      "[nltk_data]     C:\\Users\\Jose\\AppData\\Roaming\\nltk_data...\n",
      "[nltk_data]   Package punkt is already up-to-date!\n",
      "[nltk_data] Downloading package wordnet to\n",
      "[nltk_data]     C:\\Users\\Jose\\AppData\\Roaming\\nltk_data...\n",
      "[nltk_data]   Package wordnet is already up-to-date!\n",
      "[nltk_data] Downloading package averaged_perceptron_tagger to\n",
      "[nltk_data]     C:\\Users\\Jose\\AppData\\Roaming\\nltk_data...\n",
      "[nltk_data]   Package averaged_perceptron_tagger is already up-to-\n",
      "[nltk_data]       date!\n",
      "[nltk_data] Downloading package vader_lexicon to\n",
      "[nltk_data]     C:\\Users\\Jose\\AppData\\Roaming\\nltk_data...\n",
      "[nltk_data]   Package vader_lexicon is already up-to-date!\n"
     ]
    }
   ],
   "source": [
    "import spacy\n",
    "import nltk\n",
    "import pandas as pd\n",
    "nltk.download('punkt')\n",
    "nltk.download('wordnet')\n",
    "nltk.download('averaged_perceptron_tagger')\n",
    "nltk.download('vader_lexicon')\n",
    "from nltk.sentiment.vader import SentimentIntensityAnalyzer as vader"
   ]
  },
  {
   "cell_type": "markdown",
   "metadata": {},
   "source": [
    "Cargar los diccionarios de procesamiento de lenguaje natural, en ingles y el modelo de sentimientos (Valence Aware Dictionary for Sentiment Reasoning)."
   ]
  },
  {
   "cell_type": "code",
   "execution_count": 7,
   "metadata": {},
   "outputs": [],
   "source": [
    "nlp = spacy.load(\"en_core_web_sm\")\n",
    "sentiment = vader()"
   ]
  },
  {
   "cell_type": "markdown",
   "metadata": {},
   "source": [
    "Variables necesarias."
   ]
  },
  {
   "cell_type": "code",
   "execution_count": 8,
   "metadata": {},
   "outputs": [],
   "source": [
    "dic = {}\n",
    "feels = []\n",
    "cont = 0\n",
    "pos = []\n",
    "neg = []\n",
    "neu = []\n",
    "words = []\n",
    "total = []"
   ]
  },
  {
   "cell_type": "markdown",
   "metadata": {},
   "source": [
    "lectura de archivo csv y extracción de texto."
   ]
  },
  {
   "cell_type": "code",
   "execution_count": 9,
   "metadata": {},
   "outputs": [
    {
     "name": "stdout",
     "output_type": "stream",
     "text": [
      "                             fecha    cuenta  \\\n",
      "0   Mon Oct 24 13:25:12 +0000 2016   Reuters   \n",
      "1   Mon Oct 24 05:05:05 +0000 2016   Reuters   \n",
      "2   Thu Sep 22 21:35:03 +0000 2016   Reuters   \n",
      "3   Wed Sep 07 22:35:05 +0000 2016   NBCNews   \n",
      "4   Wed Sep 07 19:20:49 +0000 2016   Reuters   \n",
      "5   Wed Sep 07 17:35:51 +0000 2016   Reuters   \n",
      "6   Wed Sep 07 16:08:22 +0000 2016        AP   \n",
      "7   Wed Sep 07 15:47:15 +0000 2016        AP   \n",
      "8   Wed Sep 07 15:43:07 +0000 2016   nytimes   \n",
      "9   Thu Sep 01 18:51:42 +0000 2016  guardian   \n",
      "10  Thu Sep 01 15:45:11 +0000 2016   NBCNews   \n",
      "11  Thu Sep 01 12:35:01 +0000 2016       CNN   \n",
      "12  Thu Sep 01 12:11:36 +0000 2016       CNN   \n",
      "13  Thu Sep 01 11:29:15 +0000 2016   NBCNews   \n",
      "14  Thu Sep 01 08:48:06 +0000 2016   nytimes   \n",
      "15  Thu Sep 01 03:21:28 +0000 2016       CNN   \n",
      "16  Thu Sep 01 01:12:36 +0000 2016       CNN   \n",
      "17  Thu Sep 01 01:04:00 +0000 2016   NBCNews   \n",
      "18  Thu Sep 01 00:40:36 +0000 2016       CNN   \n",
      "19  Thu Sep 01 00:03:53 +0000 2016       CNN   \n",
      "20  Wed Aug 31 20:41:29 +0000 2016  guardian   \n",
      "21  Wed Aug 31 20:14:40 +0000 2016        AP   \n",
      "22  Wed Aug 31 19:28:01 +0000 2016       CNN   \n",
      "23  Wed Aug 31 17:31:10 +0000 2016  guardian   \n",
      "24  Wed Aug 31 16:28:01 +0000 2016       CNN   \n",
      "25  Wed Aug 31 16:22:03 +0000 2016   nytimes   \n",
      "26  Wed Aug 31 14:41:58 +0000 2016  guardian   \n",
      "27  Wed Aug 31 14:33:07 +0000 2016   nytimes   \n",
      "28  Wed Aug 31 13:44:17 +0000 2016  guardian   \n",
      "29  Wed Aug 31 10:55:07 +0000 2016        AP   \n",
      "30  Wed Aug 31 10:34:45 +0000 2016        AP   \n",
      "31  Wed Aug 31 08:06:06 +0000 2016   nytimes   \n",
      "32  Wed Aug 31 06:18:30 +0000 2016        AP   \n",
      "33  Wed Aug 31 03:23:25 +0000 2016   nytimes   \n",
      "34  Wed Aug 31 03:07:42 +0000 2016   nytimes   \n",
      "35  Wed Aug 31 02:16:41 +0000 2016        AP   \n",
      "36  Wed Feb 17 19:08:56 +0000 2016  guardian   \n",
      "37  Wed Feb 17 15:43:02 +0000 2016   Reuters   \n",
      "\n",
      "                                                texto  \n",
      "0   RT @ReutersPolitics: Mexico president says Tru...  \n",
      "1   Mexico president says Trump visit could have b...  \n",
      "2   Mexican president says Trump visit sparked min...  \n",
      "3   Mexico finance secretary, reportedly responsib...  \n",
      "4   Mexico president replaces finance minister aft...  \n",
      "5   Mexico president replaces finance minister aft...  \n",
      "6   Mexican government says treasury minister has ...  \n",
      "7   BREAKING: Mexico government spokeswoman: Treas...  \n",
      "8   Mexico’s finance minister is resigning. Donald...  \n",
      "9   Martin Rowson on Donald Trump's visit to Mexic...  \n",
      "10  Here's how Trump's visit played on Mexico's fr...  \n",
      "11  Hillary Clinton: \"Trump just failed his first ...  \n",
      "12  RT @CNNPolitics: Tim Kaine: Donald Trump's Mex...  \n",
      "13  RT @TODAYshow: .@timkaine slams Donald Trump's...  \n",
      "14  Donald Trump appeared solicitous, even pleadin...  \n",
      "15  Hillary Clinton: \"Trump just failed his first ...  \n",
      "16  Gov. Mike Pence on Trump's visit to Mexico: Th...  \n",
      "17  Trump visit to Mexico was result of weeks of w...  \n",
      "18  Donald Trump arrives in Phoenix for highly ant...  \n",
      "19  Trump is set to deliver a highly anticipated i...  \n",
      "20  Protests in Mexico City over Trump visit – vid...  \n",
      "21  BREAKING: Mexican President Enrique Pena Nieto...  \n",
      "22  Hillary Clinton: Donald Trump \"dropping in\" on...  \n",
      "23  Trump's visit to Mexico may underscore a 'soft...  \n",
      "24  Mexicans respond to the news of Donald Trump's...  \n",
      "25  Donald Trump's visit to Mexico wasn't exactly ...  \n",
      "26  Donald Trump's visit to Mexico is greeted with...  \n",
      "27  Vicente Fox, ex-president of Mexico, scoffs at...  \n",
      "28  Donald Trump's visit to Mexico is greeted with...  \n",
      "29  Among #AP10ThingstoKnow: Trump making surprise...  \n",
      "30  Donald Trump making a quick and unexpected vis...  \n",
      "31  Donald Trump to visit Mexico after more than a...  \n",
      "32  VIDEO: Donald Trump speaks in Washington state...  \n",
      "33  Donald Trump to Visit Mexico After More Than a...  \n",
      "34  Donald Trump to visit Mexico after more than a...  \n",
      "35  RT @AP_Politics: AP Source: Trump may visit Me...  \n",
      "36  Pope Francis finds himself in US immigration d...  \n",
      "37  The Vatican counters Trump on Pope Francis' bo...  \n"
     ]
    }
   ],
   "source": [
    "#df = pd.read_csv(\"trump_mexico_visit_filtered.csv\")\n",
    "df = pd.read_csv('https://raw.githubusercontent.com/quirozem/TallerImgMx/main/trump_mexico_visit_filtered.csv')\n",
    "texto = df['texto'].tolist()\n",
    "print(df)"
   ]
  },
  {
   "cell_type": "markdown",
   "metadata": {},
   "source": [
    "análisis de cada etrada de texto."
   ]
  },
  {
   "cell_type": "code",
   "execution_count": 10,
   "metadata": {},
   "outputs": [],
   "source": [
    "for tweet in texto:\n",
    "    doc = nlp(tweet)\n",
    "    words.append([token.lemma_.lower() for token in doc if token.is_punct != True and token.text != ' ' and 'http' not in token.text])\n",
    "    aux = \"\"\n",
    "    for x in words[cont]:\n",
    "        aux = aux +\" \"+ x\n",
    "    feels.append(sentiment.polarity_scores(aux))\n",
    "    pos.append(feels[cont]['pos'])\n",
    "    neg.append(feels[cont]['neg'])\n",
    "    neu.append(feels[cont]['neu'])\n",
    "    total.append(feels[cont]['compound'])\n",
    "    cont = cont + 1\n"
   ]
  },
  {
   "cell_type": "markdown",
   "metadata": {},
   "source": [
    "Nos entrega las cantidad de datos procesados y análizados."
   ]
  },
  {
   "cell_type": "code",
   "execution_count": 11,
   "metadata": {},
   "outputs": [
    {
     "name": "stdout",
     "output_type": "stream",
     "text": [
      "Se evaluaron 38 etradas de datos\n"
     ]
    }
   ],
   "source": [
    "print(\"Se evaluaron \"+str(len(feels))+\" entradas de datos\")"
   ]
  },
  {
   "cell_type": "markdown",
   "metadata": {},
   "source": [
    "Se guardan los resultados en un nuevo archivo."
   ]
  },
  {
   "cell_type": "code",
   "execution_count": 12,
   "metadata": {},
   "outputs": [
    {
     "name": "stdout",
     "output_type": "stream",
     "text": [
      "                                                texto  positivo  negativo  \\\n",
      "0   [rt, @reuterspolitics, mexico, president, say,...     0.160     0.000   \n",
      "1   [mexico, president, say, trump, visit, could, ...     0.189     0.000   \n",
      "2   [mexican, president, say, trump, visit, spark,...     0.192     0.000   \n",
      "3   [mexico, finance, secretary, reportedly, respo...     0.197     0.205   \n",
      "4   [mexico, president, replace, finance, minister...     0.000     0.286   \n",
      "5   [mexico, president, replace, finance, minister...     0.000     0.286   \n",
      "6   [mexican, government, say, treasury, minister,...     0.075     0.176   \n",
      "7   [breaking, mexico, government, spokeswoman, tr...     0.118     0.158   \n",
      "8   [mexico, ’s, finance, minister, be, resign, do...     0.000     0.156   \n",
      "9   [martin, rowson, on, donald, trump, 's, visit,...     0.000     0.000   \n",
      "10  [here, be, how, trump, 's, visit, play, on, me...     0.179     0.000   \n",
      "11  [hillary, clinton, trump, just, fail, -pron-, ...     0.000     0.226   \n",
      "12  [rt, @cnnpolitic, tim, kaine, donald, trump, '...     0.000     0.179   \n",
      "13  [rt, @todayshow, .@timkaine, slam, donald, tru...     0.000     0.191   \n",
      "14  [donald, trump, appear, solicitous, even, plea...     0.000     0.000   \n",
      "15  [hillary, clinton, trump, just, fail, -pron-, ...     0.000     0.226   \n",
      "16  [gov., mike, pence, on, trump, 's, visit, to, ...     0.000     0.000   \n",
      "17  [trump, visit, to, mexico, be, result, of, wee...     0.000     0.000   \n",
      "18  [donald, trump, arrive, in, phoenix, for, high...     0.000     0.000   \n",
      "19  [trump, be, set, to, deliver, a, highly, antic...     0.000     0.000   \n",
      "20  [protest, in, mexico, city, over, trump, visit...     0.000     0.222   \n",
      "21  [breaking, mexican, president, enrique, pena, ...     0.091     0.000   \n",
      "22  [hillary, clinton, donald, trump, drop, in, on...     0.000     0.123   \n",
      "23  [trump, 's, visit, to, mexico, may, underscore...     0.000     0.000   \n",
      "24  [mexicans, respond, to, the, news, of, donald,...     0.154     0.000   \n",
      "25  [donald, trump, 's, visit, to, mexico, be, not...     0.000     0.000   \n",
      "26  [donald, trump, 's, visit, to, mexico, be, gre...     0.155     0.236   \n",
      "27  [vicente, fox, ex, president, of, mexico, scof...     0.000     0.000   \n",
      "28  [donald, trump, 's, visit, to, mexico, be, gre...     0.155     0.236   \n",
      "29  [among, ap10thingstoknow, trump, make, surpris...     0.146     0.090   \n",
      "30  [donald, trump, make, a, quick, and, unexpecte...     0.000     0.000   \n",
      "31  [donald, trump, to, visit, mexico, after, more...     0.000     0.203   \n",
      "32  [video, donald, trump, speak, in, washington, ...     0.000     0.000   \n",
      "33  [donald, trump, to, visit, mexico, after, more...     0.000     0.203   \n",
      "34  [donald, trump, to, visit, mexico, after, more...     0.000     0.203   \n",
      "35  [rt, @ap_politics, ap, source, trump, may, vis...     0.000     0.000   \n",
      "36  [pope, francis, find, -pron-, in, us, immigrat...     0.000     0.000   \n",
      "37  [the, vatican, counter, trump, on, pope, franc...     0.000     0.000   \n",
      "\n",
      "    neutral   total  \n",
      "0     0.840  0.2732  \n",
      "1     0.811  0.2732  \n",
      "2     0.808  0.2263  \n",
      "3     0.598 -0.0258  \n",
      "4     0.714 -0.4939  \n",
      "5     0.714 -0.4939  \n",
      "6     0.749 -0.2263  \n",
      "7     0.724 -0.1531  \n",
      "8     0.844 -0.3400  \n",
      "9     1.000  0.0000  \n",
      "10    0.821  0.3400  \n",
      "11    0.774 -0.5423  \n",
      "12    0.821 -0.5423  \n",
      "13    0.809 -0.3818  \n",
      "14    1.000  0.0000  \n",
      "15    0.774 -0.5423  \n",
      "16    1.000  0.0000  \n",
      "17    1.000  0.0000  \n",
      "18    1.000  0.0000  \n",
      "19    1.000  0.0000  \n",
      "20    0.778 -0.2500  \n",
      "21    0.909  0.2023  \n",
      "22    0.877 -0.2732  \n",
      "23    1.000  0.0000  \n",
      "24    0.846  0.2500  \n",
      "25    1.000  0.0000  \n",
      "26    0.608 -0.2960  \n",
      "27    1.000  0.0000  \n",
      "28    0.608 -0.2960  \n",
      "29    0.764  0.2023  \n",
      "30    1.000  0.0000  \n",
      "31    0.797 -0.4215  \n",
      "32    1.000  0.0000  \n",
      "33    0.797 -0.4215  \n",
      "34    0.797 -0.4215  \n",
      "35    1.000  0.0000  \n",
      "36    1.000  0.0000  \n",
      "37    1.000  0.0000  \n"
     ]
    }
   ],
   "source": [
    "dic['texto'] = words\n",
    "dic['positivo'] = pos\n",
    "dic['negativo'] = neg\n",
    "dic['neutral'] = neu\n",
    "dic['total'] = total\n",
    "\n",
    "data = pd.DataFrame(dic)\n",
    "data.to_csv('resultados.csv')\n",
    "print(data)"
   ]
  },
  {
   "cell_type": "code",
   "execution_count": null,
   "metadata": {},
   "outputs": [],
   "source": []
  }
 ],
 "metadata": {
  "kernelspec": {
   "display_name": "Python 3",
   "language": "python",
   "name": "python3"
  },
  "language_info": {
   "codemirror_mode": {
    "name": "ipython",
    "version": 3
   },
   "file_extension": ".py",
   "mimetype": "text/x-python",
   "name": "python",
   "nbconvert_exporter": "python",
   "pygments_lexer": "ipython3",
   "version": "3.8.2"
  }
 },
 "nbformat": 4,
 "nbformat_minor": 4
}
