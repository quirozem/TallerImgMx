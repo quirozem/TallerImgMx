{
 "cells": [
  {
   "cell_type": "markdown",
   "metadata": {},
   "source": [
    "Este programa tokeniza, lematiza y quita stop words de un texto."
   ]
  },
  {
   "cell_type": "markdown",
   "metadata": {},
   "source": [
    "Importar bibliotecas."
   ]
  },
  {
   "cell_type": "code",
   "execution_count": 1,
   "metadata": {},
   "outputs": [
    {
     "name": "stderr",
     "output_type": "stream",
     "text": [
      "c:\\users\\jose\\appdata\\local\\programs\\python\\python38\\lib\\site-packages\\cupy\\_environment.py:147: UserWarning: CUDA path could not be detected. Set CUDA_PATH environment variable if CuPy fails to load.\n",
      "  warnings.warn(\n",
      "c:\\users\\jose\\appdata\\local\\programs\\python\\python38\\lib\\site-packages\\cupy\\_environment.py:147: UserWarning: CUDA path could not be detected. Set CUDA_PATH environment variable if CuPy fails to load.\n",
      "  warnings.warn(\n",
      "c:\\users\\jose\\appdata\\local\\programs\\python\\python38\\lib\\site-packages\\cupy\\_environment.py:147: UserWarning: CUDA path could not be detected. Set CUDA_PATH environment variable if CuPy fails to load.\n",
      "  warnings.warn(\n",
      "c:\\users\\jose\\appdata\\local\\programs\\python\\python38\\lib\\site-packages\\cupy\\_environment.py:147: UserWarning: CUDA path could not be detected. Set CUDA_PATH environment variable if CuPy fails to load.\n",
      "  warnings.warn(\n",
      "c:\\users\\jose\\appdata\\local\\programs\\python\\python38\\lib\\site-packages\\cupy\\_environment.py:147: UserWarning: CUDA path could not be detected. Set CUDA_PATH environment variable if CuPy fails to load.\n",
      "  warnings.warn(\n",
      "c:\\users\\jose\\appdata\\local\\programs\\python\\python38\\lib\\site-packages\\cupy\\_environment.py:147: UserWarning: CUDA path could not be detected. Set CUDA_PATH environment variable if CuPy fails to load.\n",
      "  warnings.warn(\n",
      "c:\\users\\jose\\appdata\\local\\programs\\python\\python38\\lib\\site-packages\\cupy\\_environment.py:147: UserWarning: CUDA path could not be detected. Set CUDA_PATH environment variable if CuPy fails to load.\n",
      "  warnings.warn(\n",
      "c:\\users\\jose\\appdata\\local\\programs\\python\\python38\\lib\\site-packages\\cupy\\_environment.py:147: UserWarning: CUDA path could not be detected. Set CUDA_PATH environment variable if CuPy fails to load.\n",
      "  warnings.warn(\n",
      "c:\\users\\jose\\appdata\\local\\programs\\python\\python38\\lib\\site-packages\\cupy\\_environment.py:147: UserWarning: CUDA path could not be detected. Set CUDA_PATH environment variable if CuPy fails to load.\n",
      "  warnings.warn(\n"
     ]
    }
   ],
   "source": [
    "import spacy"
   ]
  },
  {
   "cell_type": "code",
   "execution_count": 2,
   "metadata": {},
   "outputs": [],
   "source": [
    "nlp = spacy.load(\"en_core_web_sm\")"
   ]
  },
  {
   "cell_type": "code",
   "execution_count": 3,
   "metadata": {},
   "outputs": [],
   "source": [
    "texto = \"\"\"Thousands of people have attended a girl's birthday party in Mexico, after her parent's video invitation to \"everyone\" went viral on social media.\n",
    "\n",
    "Family members had to move away an army of waiting reporters so Rubi Ibarra Garcia could attend a Mass in La Joya community, central Mexico.\n",
    "\n",
    "She was celebrating her 15th birthday - a traditional coming-of-age party in Mexico known as \"quinceanera\".\n",
    "\n",
    "About 1.2 million people had earlier vowed to attend the party.\n",
    "\n",
    "However, the father later said the idea had been to invite neighbours and friends only - while stressing he would not turn anyone away.\n",
    "They were met by Rubi, who looked serene despite the crowds, wearing a fuchsia dress and a tiara.\n",
    "\n",
    "In thevideo posted online earlier this month the girl's father said that \"everyone is welcome\" to the party featuring three local bands, a meal and a horse race.\n",
    "\n",
    "The footage shows Crescencio Ibarra standing next to his daughter Rubi and his wife Anaelda Garcia.\n",
    "\n",
    "\"Hello, how are you? We invite you this 26 December to the 15th birthday party of our daughter, Rubi Ibarra Garcia,\" Mr Ibarra says, while his daughter smiles.\n",
    "\n",
    "He then goes on to announce that the winner of the horse race to be held as part of the event stands to win 10,000 pesos ($490; £390).\"\"\""
   ]
  },
  {
   "cell_type": "code",
   "execution_count": 4,
   "metadata": {},
   "outputs": [],
   "source": [
    "doc = nlp(texto)"
   ]
  },
  {
   "cell_type": "code",
   "execution_count": 9,
   "metadata": {},
   "outputs": [],
   "source": [
    "words = [token.lemma_.lower() for token in doc if token.is_stop != True and token.is_punct != True and token.text != ' ' and token.text != '\\n']"
   ]
  },
  {
   "cell_type": "code",
   "execution_count": 10,
   "metadata": {},
   "outputs": [
    {
     "name": "stdout",
     "output_type": "stream",
     "text": [
      "['thousand', 'people', 'attend', 'girl', 'birthday', 'party', 'mexico', 'parent', 'video', 'invitation', 'go', 'viral', 'social', 'medium', 'family', 'member', 'away', 'army', 'wait', 'reporter', 'rubi', 'ibarra', 'garcia', 'attend', 'mass', 'la', 'joya', 'community', 'central', 'mexico', 'celebrate', '15th', 'birthday', 'traditional', 'coming', 'age', 'party', 'mexico', 'know', 'quinceanera', '1.2', 'million', 'people', 'early', 'vow', 'attend', 'party', 'father', 'later', 'say', 'idea', 'invite', 'neighbour', 'friend', 'stress', 'turn', 'away', '\\n', 'meet', 'rubi', 'look', 'serene', 'despite', 'crowd', 'wear', 'fuchsia', 'dress', 'tiara', 'thevideo', 'post', 'online', 'early', 'month', 'girl', 'father', 'say', 'welcome', 'party', 'feature', 'local', 'band', 'meal', 'horse', 'race', 'footage', 'show', 'crescencio', 'ibarra', 'stand', 'daughter', 'rubi', 'wife', 'anaelda', 'garcia', 'hello', 'invite', '26', 'december', '15th', 'birthday', 'party', 'daughter', 'rubi', 'ibarra', 'garcia', 'mr', 'ibarra', 'say', 'daughter', 'smile', 'go', 'announce', 'winner', 'horse', 'race', 'hold', 'event', 'stand', 'win', '10,000', 'peso', '$', '490', '£', '390']\n"
     ]
    }
   ],
   "source": [
    "print(words)"
   ]
  },
  {
   "cell_type": "code",
   "execution_count": null,
   "metadata": {},
   "outputs": [],
   "source": []
  }
 ],
 "metadata": {
  "kernelspec": {
   "display_name": "Python 3",
   "language": "python",
   "name": "python3"
  },
  "language_info": {
   "codemirror_mode": {
    "name": "ipython",
    "version": 3
   },
   "file_extension": ".py",
   "mimetype": "text/x-python",
   "name": "python",
   "nbconvert_exporter": "python",
   "pygments_lexer": "ipython3",
   "version": "3.8.2"
  }
 },
 "nbformat": 4,
 "nbformat_minor": 4
}
